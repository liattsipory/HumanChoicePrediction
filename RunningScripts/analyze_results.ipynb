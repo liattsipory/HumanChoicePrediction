{
 "cells": [
  {
   "cell_type": "code",
   "execution_count": 1,
   "id": "6d796479-916b-464c-9c7b-448306d9e7e9",
   "metadata": {},
   "outputs": [],
   "source": [
    "import pandas as pd \n",
    "import wandb\n",
    "from tqdm import tqdm\n",
    "import requests\n",
    "import os\n",
    "import numpy as np\n",
    "import matplotlib.pyplot as plt\n",
    "import sklearn\n",
    "from sklearn import metrics\n",
    "import matplotlib.pyplot as plt\n",
    "import scipy.stats as stats\n",
    "import matplotlib.colors as mcolors"
   ]
  },
  {
   "cell_type": "code",
   "execution_count": 2,
   "id": "a9b533fe-a6ba-45c9-8bac-5da5e1414208",
   "metadata": {},
   "outputs": [],
   "source": [
    "from read_wandb import wandb_results\n",
    "api = wandb_results(\"NLP2024_PROJECT_207897091_322720103\", wandb_username=\"noa-levi\")\n",
    "\n",
    "BASE_METRIC = \"accuracy_per_mean_user_and_bot\"\n"
   ]
  },
  {
   "cell_type": "code",
   "execution_count": 3,
   "id": "7be66a73-767b-4b9b-ab1f-9310d9d21fa2",
   "metadata": {},
   "outputs": [],
   "source": [
    "def result_metric(sweeps, group_name, drop_list=[0], drop_HPT=False, metric=BASE_METRIC, epoch=\"best\"):\n",
    "    df = api.get_sweeps_results(sweeps, metric=metric) \n",
    "\n",
    "    config_cols = [c for c in df.columns if \"config_\" in c and c!=\"config_wandb_run_id\" and c!=\"config_online_simulation_size\"]\n",
    "    HPT_cols = [col for col in config_cols if df[col].nunique() > 1]\n",
    "    print(HPT_cols)\n",
    "    if drop_HPT:\n",
    "        df=df.drop([c for c in HPT_cols if not c in [\"config_LLM_SIM_SIZE\", \"config_seed\"]], axis=1)\n",
    "        HPT_cols = [\"config_LLM_SIM_SIZE\", \"config_seed\"]\n",
    "        \n",
    "    grouped = df.groupby([c for c in HPT_cols if c != \"config_seed\"])\n",
    "    mean_df = grouped.mean()\n",
    "    std_df = grouped.std()\n",
    "    if epoch==\"best\":\n",
    "        best_col = mean_df[[c for c in mean_df.columns if (metric in c and metric[-4:] == c.split(\"_epoch\")[0][-4:])]].idxmax(axis=1)\n",
    "    else:\n",
    "        best_col = mean_df[[c for c in mean_df.columns if f\"{metric}_epoch{epoch}\" in c]].idxmax(axis=1)\n",
    "    \n",
    "    result = grouped.apply(lambda x: x[best_col.loc[x.name]].values)\n",
    "    means = grouped.apply(lambda x: x[best_col.loc[x.name]].mean())\n",
    "    stds = grouped.apply(lambda x: x[best_col.loc[x.name]].std())\n",
    "\n",
    "\n",
    "    df_cols = {'mean': means, 'std': stds, 'values': result.values}\n",
    "    if epoch == \"best\": df_cols['epoch'] = best_col.apply(lambda x: int(x.split(\"epoch\")[1]) if \"epoch\" in x else \"last\")\n",
    "\n",
    "    df_cols['CI'] = result.apply(lambda x: bootstrap_ci(x))\n",
    "\n",
    "    summary_df = pd.DataFrame(df_cols, index=best_col.index)\n",
    "    for d in drop_list:\n",
    "        if d in summary_df.index:\n",
    "            summary_df=summary_df.drop(d)\n",
    "    if len(summary_df.index.names) == 1:\n",
    "        return summary_df.rename_axis(group_name)\n",
    "    else:\n",
    "        return summary_df\n",
    "\n",
    "def bootstrap_ci(data, n_bootstrap=1000, ci=0.95):\n",
    "    bootstrapped_means = []\n",
    "    for _ in range(n_bootstrap):\n",
    "        sample = np.random.choice(data, size=len(data), replace=True)\n",
    "        bootstrapped_means.append(np.mean(sample))\n",
    "    lower_bound = np.percentile(bootstrapped_means, (1 - ci) / 2 * 100)\n",
    "    upper_bound = np.percentile(bootstrapped_means, (1 + ci) / 2 * 100)\n",
    "    return lower_bound, upper_bound\n"
   ]
  },
  {
   "cell_type": "markdown",
   "id": "53a0ba0c-108c-43f5-8232-8b548c844b31",
   "metadata": {},
   "source": [
    "# For HyperParameterTuning"
   ]
  },
  {
   "cell_type": "markdown",
   "id": "dbe8fe89-e9e6-45f2-a2c0-e79a80e455ae",
   "metadata": {},
   "source": [
    "For every configuration that you test in the sweep, you will receive in the table the average, standard deviation, all the values obtained for the different seed values, and also the confidence interval within which the result is located at a confidence level of 95%.\n",
    "\n",
    "When epoch=\"best\" is defined, you can check in which epoch the best result is obtained. If epoch=5 is defined, you will receive the result obtained for epoch number 5.\n",
    "\n",
    "You can test multiple sweeps simultaneously by entering them into the list found in the first element of the function result_metric."
   ]
  },
  {
   "cell_type": "code",
   "execution_count": 5,
   "id": "9dd9321f-5c94-4f0c-8052-b50bd8bd3f4e",
   "metadata": {},
   "outputs": [
    {
     "name": "stdout",
     "output_type": "stream",
     "text": [
      "Total number of sweeps: 1\n",
      "Download sweep_id='emo2h460' data...\n"
     ]
    },
    {
     "name": "stderr",
     "output_type": "stream",
     "text": [
      "100%|██████████| 80/80 [00:01<00:00, 47.31it/s]\n"
     ]
    },
    {
     "ename": "OSError",
     "evalue": "Cannot save file into a non-existent directory: 'sweeps_csvs'",
     "output_type": "error",
     "traceback": [
      "\u001b[0;31m---------------------------------------------------------------------------\u001b[0m",
      "\u001b[0;31mOSError\u001b[0m                                   Traceback (most recent call last)",
      "Cell \u001b[0;32mIn[5], line 1\u001b[0m\n\u001b[0;32m----> 1\u001b[0m sweep_results \u001b[38;5;241m=\u001b[39m \u001b[43mresult_metric\u001b[49m\u001b[43m(\u001b[49m\u001b[43m[\u001b[49m\u001b[38;5;124;43m\"\u001b[39;49m\u001b[38;5;124;43memo2h460\u001b[39;49m\u001b[38;5;124;43m\"\u001b[39;49m\u001b[43m]\u001b[49m\u001b[43m,\u001b[49m\u001b[43m \u001b[49m\u001b[38;5;124;43m\"\u001b[39;49m\u001b[38;5;124;43mLLMs\u001b[39;49m\u001b[38;5;124;43m\"\u001b[39;49m\u001b[43m,\u001b[49m\u001b[43m \u001b[49m\u001b[43mdrop_HPT\u001b[49m\u001b[38;5;241;43m=\u001b[39;49m\u001b[38;5;28;43;01mFalse\u001b[39;49;00m\u001b[43m,\u001b[49m\u001b[43m \u001b[49m\u001b[43mepoch\u001b[49m\u001b[38;5;241;43m=\u001b[39;49m\u001b[38;5;124;43m\"\u001b[39;49m\u001b[38;5;124;43mbest\u001b[39;49m\u001b[38;5;124;43m\"\u001b[39;49m\u001b[43m)\u001b[49m\n\u001b[1;32m      2\u001b[0m sweep_results\n",
      "Cell \u001b[0;32mIn[3], line 2\u001b[0m, in \u001b[0;36mresult_metric\u001b[0;34m(sweeps, group_name, drop_list, drop_HPT, metric, epoch)\u001b[0m\n\u001b[1;32m      1\u001b[0m \u001b[38;5;28;01mdef\u001b[39;00m \u001b[38;5;21mresult_metric\u001b[39m(sweeps, group_name, drop_list\u001b[38;5;241m=\u001b[39m[\u001b[38;5;241m0\u001b[39m], drop_HPT\u001b[38;5;241m=\u001b[39m\u001b[38;5;28;01mFalse\u001b[39;00m, metric\u001b[38;5;241m=\u001b[39mBASE_METRIC, epoch\u001b[38;5;241m=\u001b[39m\u001b[38;5;124m\"\u001b[39m\u001b[38;5;124mbest\u001b[39m\u001b[38;5;124m\"\u001b[39m):\n\u001b[0;32m----> 2\u001b[0m     df \u001b[38;5;241m=\u001b[39m \u001b[43mapi\u001b[49m\u001b[38;5;241;43m.\u001b[39;49m\u001b[43mget_sweeps_results\u001b[49m\u001b[43m(\u001b[49m\u001b[43msweeps\u001b[49m\u001b[43m,\u001b[49m\u001b[43m \u001b[49m\u001b[43mmetric\u001b[49m\u001b[38;5;241;43m=\u001b[39;49m\u001b[43mmetric\u001b[49m\u001b[43m)\u001b[49m \n\u001b[1;32m      4\u001b[0m     config_cols \u001b[38;5;241m=\u001b[39m [c \u001b[38;5;28;01mfor\u001b[39;00m c \u001b[38;5;129;01min\u001b[39;00m df\u001b[38;5;241m.\u001b[39mcolumns \u001b[38;5;28;01mif\u001b[39;00m \u001b[38;5;124m\"\u001b[39m\u001b[38;5;124mconfig_\u001b[39m\u001b[38;5;124m\"\u001b[39m \u001b[38;5;129;01min\u001b[39;00m c \u001b[38;5;129;01mand\u001b[39;00m c\u001b[38;5;241m!=\u001b[39m\u001b[38;5;124m\"\u001b[39m\u001b[38;5;124mconfig_wandb_run_id\u001b[39m\u001b[38;5;124m\"\u001b[39m \u001b[38;5;129;01mand\u001b[39;00m c\u001b[38;5;241m!=\u001b[39m\u001b[38;5;124m\"\u001b[39m\u001b[38;5;124mconfig_online_simulation_size\u001b[39m\u001b[38;5;124m\"\u001b[39m]\n\u001b[1;32m      5\u001b[0m     HPT_cols \u001b[38;5;241m=\u001b[39m [col \u001b[38;5;28;01mfor\u001b[39;00m col \u001b[38;5;129;01min\u001b[39;00m config_cols \u001b[38;5;28;01mif\u001b[39;00m df[col]\u001b[38;5;241m.\u001b[39mnunique() \u001b[38;5;241m>\u001b[39m \u001b[38;5;241m1\u001b[39m]\n",
      "File \u001b[0;32m~/HumanChoicePrediction/HumanChoicePrediction-1/RunningScripts/read_wandb.py:51\u001b[0m, in \u001b[0;36mwandb_results.get_sweeps_results\u001b[0;34m(self, sweeps, metric, best_epoch, get_servers, read_csv_if_exist, save_to_csv)\u001b[0m\n\u001b[1;32m     49\u001b[0m \u001b[38;5;28;01mdef\u001b[39;00m \u001b[38;5;21mget_sweeps_results\u001b[39m(\u001b[38;5;28mself\u001b[39m, sweeps, metric\u001b[38;5;241m=\u001b[39m\u001b[38;5;124m\"\u001b[39m\u001b[38;5;124maccuracy_all\u001b[39m\u001b[38;5;124m\"\u001b[39m, best_epoch\u001b[38;5;241m=\u001b[39m\u001b[38;5;28;01mFalse\u001b[39;00m, get_servers\u001b[38;5;241m=\u001b[39m\u001b[38;5;28;01mFalse\u001b[39;00m,  read_csv_if_exist\u001b[38;5;241m=\u001b[39m\u001b[38;5;28;01mTrue\u001b[39;00m, save_to_csv\u001b[38;5;241m=\u001b[39m\u001b[38;5;28;01mTrue\u001b[39;00m):\n\u001b[1;32m     50\u001b[0m     \u001b[38;5;28mprint\u001b[39m(\u001b[38;5;124m\"\u001b[39m\u001b[38;5;124mTotal number of sweeps:\u001b[39m\u001b[38;5;124m\"\u001b[39m, \u001b[38;5;28mlen\u001b[39m(sweeps))\n\u001b[0;32m---> 51\u001b[0m     j \u001b[38;5;241m=\u001b[39m pd\u001b[38;5;241m.\u001b[39mconcat([\u001b[38;5;28mself\u001b[39m\u001b[38;5;241m.\u001b[39mget_sweep_results(sweep, metric\u001b[38;5;241m=\u001b[39mmetric, best_epoch\u001b[38;5;241m=\u001b[39mbest_epoch,  get_servers\u001b[38;5;241m=\u001b[39mget_servers, save_to_csv\u001b[38;5;241m=\u001b[39msave_to_csv, read_csv_if_exist\u001b[38;5;241m=\u001b[39mread_csv_if_exist) \u001b[38;5;28;01mfor\u001b[39;00m sweep \u001b[38;5;129;01min\u001b[39;00m sweeps])\n\u001b[1;32m     52\u001b[0m     j \u001b[38;5;241m=\u001b[39m j\u001b[38;5;241m.\u001b[39mreset_index(drop\u001b[38;5;241m=\u001b[39m\u001b[38;5;28;01mTrue\u001b[39;00m)\n\u001b[1;32m     53\u001b[0m     \u001b[38;5;28;01mreturn\u001b[39;00m j\n",
      "File \u001b[0;32m~/HumanChoicePrediction/HumanChoicePrediction-1/RunningScripts/read_wandb.py:51\u001b[0m, in \u001b[0;36m<listcomp>\u001b[0;34m(.0)\u001b[0m\n\u001b[1;32m     49\u001b[0m \u001b[38;5;28;01mdef\u001b[39;00m \u001b[38;5;21mget_sweeps_results\u001b[39m(\u001b[38;5;28mself\u001b[39m, sweeps, metric\u001b[38;5;241m=\u001b[39m\u001b[38;5;124m\"\u001b[39m\u001b[38;5;124maccuracy_all\u001b[39m\u001b[38;5;124m\"\u001b[39m, best_epoch\u001b[38;5;241m=\u001b[39m\u001b[38;5;28;01mFalse\u001b[39;00m, get_servers\u001b[38;5;241m=\u001b[39m\u001b[38;5;28;01mFalse\u001b[39;00m,  read_csv_if_exist\u001b[38;5;241m=\u001b[39m\u001b[38;5;28;01mTrue\u001b[39;00m, save_to_csv\u001b[38;5;241m=\u001b[39m\u001b[38;5;28;01mTrue\u001b[39;00m):\n\u001b[1;32m     50\u001b[0m     \u001b[38;5;28mprint\u001b[39m(\u001b[38;5;124m\"\u001b[39m\u001b[38;5;124mTotal number of sweeps:\u001b[39m\u001b[38;5;124m\"\u001b[39m, \u001b[38;5;28mlen\u001b[39m(sweeps))\n\u001b[0;32m---> 51\u001b[0m     j \u001b[38;5;241m=\u001b[39m pd\u001b[38;5;241m.\u001b[39mconcat([\u001b[38;5;28;43mself\u001b[39;49m\u001b[38;5;241;43m.\u001b[39;49m\u001b[43mget_sweep_results\u001b[49m\u001b[43m(\u001b[49m\u001b[43msweep\u001b[49m\u001b[43m,\u001b[49m\u001b[43m \u001b[49m\u001b[43mmetric\u001b[49m\u001b[38;5;241;43m=\u001b[39;49m\u001b[43mmetric\u001b[49m\u001b[43m,\u001b[49m\u001b[43m \u001b[49m\u001b[43mbest_epoch\u001b[49m\u001b[38;5;241;43m=\u001b[39;49m\u001b[43mbest_epoch\u001b[49m\u001b[43m,\u001b[49m\u001b[43m  \u001b[49m\u001b[43mget_servers\u001b[49m\u001b[38;5;241;43m=\u001b[39;49m\u001b[43mget_servers\u001b[49m\u001b[43m,\u001b[49m\u001b[43m \u001b[49m\u001b[43msave_to_csv\u001b[49m\u001b[38;5;241;43m=\u001b[39;49m\u001b[43msave_to_csv\u001b[49m\u001b[43m,\u001b[49m\u001b[43m \u001b[49m\u001b[43mread_csv_if_exist\u001b[49m\u001b[38;5;241;43m=\u001b[39;49m\u001b[43mread_csv_if_exist\u001b[49m\u001b[43m)\u001b[49m \u001b[38;5;28;01mfor\u001b[39;00m sweep \u001b[38;5;129;01min\u001b[39;00m sweeps])\n\u001b[1;32m     52\u001b[0m     j \u001b[38;5;241m=\u001b[39m j\u001b[38;5;241m.\u001b[39mreset_index(drop\u001b[38;5;241m=\u001b[39m\u001b[38;5;28;01mTrue\u001b[39;00m)\n\u001b[1;32m     53\u001b[0m     \u001b[38;5;28;01mreturn\u001b[39;00m j\n",
      "File \u001b[0;32m~/HumanChoicePrediction/HumanChoicePrediction-1/RunningScripts/read_wandb.py:46\u001b[0m, in \u001b[0;36mwandb_results.get_sweep_results\u001b[0;34m(self, sweep_id, metric, best_epoch, get_servers, reset_api, read_csv_if_exist, save_to_csv)\u001b[0m\n\u001b[1;32m     44\u001b[0m runs_df\u001b[38;5;241m.\u001b[39mdrop([\u001b[38;5;124m'\u001b[39m\u001b[38;5;124mconfig\u001b[39m\u001b[38;5;124m'\u001b[39m, \u001b[38;5;124m'\u001b[39m\u001b[38;5;124msummary\u001b[39m\u001b[38;5;124m'\u001b[39m], axis\u001b[38;5;241m=\u001b[39m\u001b[38;5;241m1\u001b[39m, inplace\u001b[38;5;241m=\u001b[39m\u001b[38;5;28;01mTrue\u001b[39;00m)\n\u001b[1;32m     45\u001b[0m hpt \u001b[38;5;241m=\u001b[39m [c \u001b[38;5;28;01mfor\u001b[39;00m c \u001b[38;5;129;01min\u001b[39;00m config_cols\u001b[38;5;241m.\u001b[39mcolumns \u001b[38;5;28;01mif\u001b[39;00m c \u001b[38;5;129;01mnot\u001b[39;00m \u001b[38;5;129;01min\u001b[39;00m [\u001b[38;5;124m\"\u001b[39m\u001b[38;5;124mconfig_seed\u001b[39m\u001b[38;5;124m\"\u001b[39m, \u001b[38;5;124m\"\u001b[39m\u001b[38;5;124mconfig_run_hash\u001b[39m\u001b[38;5;124m\"\u001b[39m]]\n\u001b[0;32m---> 46\u001b[0m \u001b[38;5;28;01mif\u001b[39;00m save_to_csv: \u001b[43mruns_df\u001b[49m\u001b[38;5;241;43m.\u001b[39;49m\u001b[43mto_csv\u001b[49m\u001b[43m(\u001b[49m\u001b[43mpath\u001b[49m\u001b[43m)\u001b[49m\n\u001b[1;32m     47\u001b[0m \u001b[38;5;28;01mreturn\u001b[39;00m runs_df\n",
      "File \u001b[0;32m/anaconda/envs/final_project_env/lib/python3.8/site-packages/pandas/core/generic.py:3772\u001b[0m, in \u001b[0;36mNDFrame.to_csv\u001b[0;34m(self, path_or_buf, sep, na_rep, float_format, columns, header, index, index_label, mode, encoding, compression, quoting, quotechar, lineterminator, chunksize, date_format, doublequote, escapechar, decimal, errors, storage_options)\u001b[0m\n\u001b[1;32m   3761\u001b[0m df \u001b[38;5;241m=\u001b[39m \u001b[38;5;28mself\u001b[39m \u001b[38;5;28;01mif\u001b[39;00m \u001b[38;5;28misinstance\u001b[39m(\u001b[38;5;28mself\u001b[39m, ABCDataFrame) \u001b[38;5;28;01melse\u001b[39;00m \u001b[38;5;28mself\u001b[39m\u001b[38;5;241m.\u001b[39mto_frame()\n\u001b[1;32m   3763\u001b[0m formatter \u001b[38;5;241m=\u001b[39m DataFrameFormatter(\n\u001b[1;32m   3764\u001b[0m     frame\u001b[38;5;241m=\u001b[39mdf,\n\u001b[1;32m   3765\u001b[0m     header\u001b[38;5;241m=\u001b[39mheader,\n\u001b[0;32m   (...)\u001b[0m\n\u001b[1;32m   3769\u001b[0m     decimal\u001b[38;5;241m=\u001b[39mdecimal,\n\u001b[1;32m   3770\u001b[0m )\n\u001b[0;32m-> 3772\u001b[0m \u001b[38;5;28;01mreturn\u001b[39;00m \u001b[43mDataFrameRenderer\u001b[49m\u001b[43m(\u001b[49m\u001b[43mformatter\u001b[49m\u001b[43m)\u001b[49m\u001b[38;5;241;43m.\u001b[39;49m\u001b[43mto_csv\u001b[49m\u001b[43m(\u001b[49m\n\u001b[1;32m   3773\u001b[0m \u001b[43m    \u001b[49m\u001b[43mpath_or_buf\u001b[49m\u001b[43m,\u001b[49m\n\u001b[1;32m   3774\u001b[0m \u001b[43m    \u001b[49m\u001b[43mlineterminator\u001b[49m\u001b[38;5;241;43m=\u001b[39;49m\u001b[43mlineterminator\u001b[49m\u001b[43m,\u001b[49m\n\u001b[1;32m   3775\u001b[0m \u001b[43m    \u001b[49m\u001b[43msep\u001b[49m\u001b[38;5;241;43m=\u001b[39;49m\u001b[43msep\u001b[49m\u001b[43m,\u001b[49m\n\u001b[1;32m   3776\u001b[0m \u001b[43m    \u001b[49m\u001b[43mencoding\u001b[49m\u001b[38;5;241;43m=\u001b[39;49m\u001b[43mencoding\u001b[49m\u001b[43m,\u001b[49m\n\u001b[1;32m   3777\u001b[0m \u001b[43m    \u001b[49m\u001b[43merrors\u001b[49m\u001b[38;5;241;43m=\u001b[39;49m\u001b[43merrors\u001b[49m\u001b[43m,\u001b[49m\n\u001b[1;32m   3778\u001b[0m \u001b[43m    \u001b[49m\u001b[43mcompression\u001b[49m\u001b[38;5;241;43m=\u001b[39;49m\u001b[43mcompression\u001b[49m\u001b[43m,\u001b[49m\n\u001b[1;32m   3779\u001b[0m \u001b[43m    \u001b[49m\u001b[43mquoting\u001b[49m\u001b[38;5;241;43m=\u001b[39;49m\u001b[43mquoting\u001b[49m\u001b[43m,\u001b[49m\n\u001b[1;32m   3780\u001b[0m \u001b[43m    \u001b[49m\u001b[43mcolumns\u001b[49m\u001b[38;5;241;43m=\u001b[39;49m\u001b[43mcolumns\u001b[49m\u001b[43m,\u001b[49m\n\u001b[1;32m   3781\u001b[0m \u001b[43m    \u001b[49m\u001b[43mindex_label\u001b[49m\u001b[38;5;241;43m=\u001b[39;49m\u001b[43mindex_label\u001b[49m\u001b[43m,\u001b[49m\n\u001b[1;32m   3782\u001b[0m \u001b[43m    \u001b[49m\u001b[43mmode\u001b[49m\u001b[38;5;241;43m=\u001b[39;49m\u001b[43mmode\u001b[49m\u001b[43m,\u001b[49m\n\u001b[1;32m   3783\u001b[0m \u001b[43m    \u001b[49m\u001b[43mchunksize\u001b[49m\u001b[38;5;241;43m=\u001b[39;49m\u001b[43mchunksize\u001b[49m\u001b[43m,\u001b[49m\n\u001b[1;32m   3784\u001b[0m \u001b[43m    \u001b[49m\u001b[43mquotechar\u001b[49m\u001b[38;5;241;43m=\u001b[39;49m\u001b[43mquotechar\u001b[49m\u001b[43m,\u001b[49m\n\u001b[1;32m   3785\u001b[0m \u001b[43m    \u001b[49m\u001b[43mdate_format\u001b[49m\u001b[38;5;241;43m=\u001b[39;49m\u001b[43mdate_format\u001b[49m\u001b[43m,\u001b[49m\n\u001b[1;32m   3786\u001b[0m \u001b[43m    \u001b[49m\u001b[43mdoublequote\u001b[49m\u001b[38;5;241;43m=\u001b[39;49m\u001b[43mdoublequote\u001b[49m\u001b[43m,\u001b[49m\n\u001b[1;32m   3787\u001b[0m \u001b[43m    \u001b[49m\u001b[43mescapechar\u001b[49m\u001b[38;5;241;43m=\u001b[39;49m\u001b[43mescapechar\u001b[49m\u001b[43m,\u001b[49m\n\u001b[1;32m   3788\u001b[0m \u001b[43m    \u001b[49m\u001b[43mstorage_options\u001b[49m\u001b[38;5;241;43m=\u001b[39;49m\u001b[43mstorage_options\u001b[49m\u001b[43m,\u001b[49m\n\u001b[1;32m   3789\u001b[0m \u001b[43m\u001b[49m\u001b[43m)\u001b[49m\n",
      "File \u001b[0;32m/anaconda/envs/final_project_env/lib/python3.8/site-packages/pandas/io/formats/format.py:1186\u001b[0m, in \u001b[0;36mDataFrameRenderer.to_csv\u001b[0;34m(self, path_or_buf, encoding, sep, columns, index_label, mode, compression, quoting, quotechar, lineterminator, chunksize, date_format, doublequote, escapechar, errors, storage_options)\u001b[0m\n\u001b[1;32m   1165\u001b[0m     created_buffer \u001b[38;5;241m=\u001b[39m \u001b[38;5;28;01mFalse\u001b[39;00m\n\u001b[1;32m   1167\u001b[0m csv_formatter \u001b[38;5;241m=\u001b[39m CSVFormatter(\n\u001b[1;32m   1168\u001b[0m     path_or_buf\u001b[38;5;241m=\u001b[39mpath_or_buf,\n\u001b[1;32m   1169\u001b[0m     lineterminator\u001b[38;5;241m=\u001b[39mlineterminator,\n\u001b[0;32m   (...)\u001b[0m\n\u001b[1;32m   1184\u001b[0m     formatter\u001b[38;5;241m=\u001b[39m\u001b[38;5;28mself\u001b[39m\u001b[38;5;241m.\u001b[39mfmt,\n\u001b[1;32m   1185\u001b[0m )\n\u001b[0;32m-> 1186\u001b[0m \u001b[43mcsv_formatter\u001b[49m\u001b[38;5;241;43m.\u001b[39;49m\u001b[43msave\u001b[49m\u001b[43m(\u001b[49m\u001b[43m)\u001b[49m\n\u001b[1;32m   1188\u001b[0m \u001b[38;5;28;01mif\u001b[39;00m created_buffer:\n\u001b[1;32m   1189\u001b[0m     \u001b[38;5;28;01massert\u001b[39;00m \u001b[38;5;28misinstance\u001b[39m(path_or_buf, StringIO)\n",
      "File \u001b[0;32m/anaconda/envs/final_project_env/lib/python3.8/site-packages/pandas/io/formats/csvs.py:240\u001b[0m, in \u001b[0;36mCSVFormatter.save\u001b[0;34m(self)\u001b[0m\n\u001b[1;32m    236\u001b[0m \u001b[38;5;250m\u001b[39m\u001b[38;5;124;03m\"\"\"\u001b[39;00m\n\u001b[1;32m    237\u001b[0m \u001b[38;5;124;03mCreate the writer & save.\u001b[39;00m\n\u001b[1;32m    238\u001b[0m \u001b[38;5;124;03m\"\"\"\u001b[39;00m\n\u001b[1;32m    239\u001b[0m \u001b[38;5;66;03m# apply compression and byte/text conversion\u001b[39;00m\n\u001b[0;32m--> 240\u001b[0m \u001b[38;5;28;01mwith\u001b[39;00m \u001b[43mget_handle\u001b[49m\u001b[43m(\u001b[49m\n\u001b[1;32m    241\u001b[0m \u001b[43m    \u001b[49m\u001b[38;5;28;43mself\u001b[39;49m\u001b[38;5;241;43m.\u001b[39;49m\u001b[43mfilepath_or_buffer\u001b[49m\u001b[43m,\u001b[49m\n\u001b[1;32m    242\u001b[0m \u001b[43m    \u001b[49m\u001b[38;5;28;43mself\u001b[39;49m\u001b[38;5;241;43m.\u001b[39;49m\u001b[43mmode\u001b[49m\u001b[43m,\u001b[49m\n\u001b[1;32m    243\u001b[0m \u001b[43m    \u001b[49m\u001b[43mencoding\u001b[49m\u001b[38;5;241;43m=\u001b[39;49m\u001b[38;5;28;43mself\u001b[39;49m\u001b[38;5;241;43m.\u001b[39;49m\u001b[43mencoding\u001b[49m\u001b[43m,\u001b[49m\n\u001b[1;32m    244\u001b[0m \u001b[43m    \u001b[49m\u001b[43merrors\u001b[49m\u001b[38;5;241;43m=\u001b[39;49m\u001b[38;5;28;43mself\u001b[39;49m\u001b[38;5;241;43m.\u001b[39;49m\u001b[43merrors\u001b[49m\u001b[43m,\u001b[49m\n\u001b[1;32m    245\u001b[0m \u001b[43m    \u001b[49m\u001b[43mcompression\u001b[49m\u001b[38;5;241;43m=\u001b[39;49m\u001b[38;5;28;43mself\u001b[39;49m\u001b[38;5;241;43m.\u001b[39;49m\u001b[43mcompression\u001b[49m\u001b[43m,\u001b[49m\n\u001b[1;32m    246\u001b[0m \u001b[43m    \u001b[49m\u001b[43mstorage_options\u001b[49m\u001b[38;5;241;43m=\u001b[39;49m\u001b[38;5;28;43mself\u001b[39;49m\u001b[38;5;241;43m.\u001b[39;49m\u001b[43mstorage_options\u001b[49m\u001b[43m,\u001b[49m\n\u001b[1;32m    247\u001b[0m \u001b[43m\u001b[49m\u001b[43m)\u001b[49m \u001b[38;5;28;01mas\u001b[39;00m handles:\n\u001b[1;32m    248\u001b[0m     \u001b[38;5;66;03m# Note: self.encoding is irrelevant here\u001b[39;00m\n\u001b[1;32m    249\u001b[0m     \u001b[38;5;28mself\u001b[39m\u001b[38;5;241m.\u001b[39mwriter \u001b[38;5;241m=\u001b[39m csvlib\u001b[38;5;241m.\u001b[39mwriter(\n\u001b[1;32m    250\u001b[0m         handles\u001b[38;5;241m.\u001b[39mhandle,\n\u001b[1;32m    251\u001b[0m         lineterminator\u001b[38;5;241m=\u001b[39m\u001b[38;5;28mself\u001b[39m\u001b[38;5;241m.\u001b[39mlineterminator,\n\u001b[0;32m   (...)\u001b[0m\n\u001b[1;32m    256\u001b[0m         quotechar\u001b[38;5;241m=\u001b[39m\u001b[38;5;28mself\u001b[39m\u001b[38;5;241m.\u001b[39mquotechar,\n\u001b[1;32m    257\u001b[0m     )\n\u001b[1;32m    259\u001b[0m     \u001b[38;5;28mself\u001b[39m\u001b[38;5;241m.\u001b[39m_save()\n",
      "File \u001b[0;32m/anaconda/envs/final_project_env/lib/python3.8/site-packages/pandas/io/common.py:737\u001b[0m, in \u001b[0;36mget_handle\u001b[0;34m(path_or_buf, mode, encoding, compression, memory_map, is_text, errors, storage_options)\u001b[0m\n\u001b[1;32m    735\u001b[0m \u001b[38;5;66;03m# Only for write methods\u001b[39;00m\n\u001b[1;32m    736\u001b[0m \u001b[38;5;28;01mif\u001b[39;00m \u001b[38;5;124m\"\u001b[39m\u001b[38;5;124mr\u001b[39m\u001b[38;5;124m\"\u001b[39m \u001b[38;5;129;01mnot\u001b[39;00m \u001b[38;5;129;01min\u001b[39;00m mode \u001b[38;5;129;01mand\u001b[39;00m is_path:\n\u001b[0;32m--> 737\u001b[0m     \u001b[43mcheck_parent_directory\u001b[49m\u001b[43m(\u001b[49m\u001b[38;5;28;43mstr\u001b[39;49m\u001b[43m(\u001b[49m\u001b[43mhandle\u001b[49m\u001b[43m)\u001b[49m\u001b[43m)\u001b[49m\n\u001b[1;32m    739\u001b[0m \u001b[38;5;28;01mif\u001b[39;00m compression:\n\u001b[1;32m    740\u001b[0m     \u001b[38;5;28;01mif\u001b[39;00m compression \u001b[38;5;241m!=\u001b[39m \u001b[38;5;124m\"\u001b[39m\u001b[38;5;124mzstd\u001b[39m\u001b[38;5;124m\"\u001b[39m:\n\u001b[1;32m    741\u001b[0m         \u001b[38;5;66;03m# compression libraries do not like an explicit text-mode\u001b[39;00m\n",
      "File \u001b[0;32m/anaconda/envs/final_project_env/lib/python3.8/site-packages/pandas/io/common.py:600\u001b[0m, in \u001b[0;36mcheck_parent_directory\u001b[0;34m(path)\u001b[0m\n\u001b[1;32m    598\u001b[0m parent \u001b[38;5;241m=\u001b[39m Path(path)\u001b[38;5;241m.\u001b[39mparent\n\u001b[1;32m    599\u001b[0m \u001b[38;5;28;01mif\u001b[39;00m \u001b[38;5;129;01mnot\u001b[39;00m parent\u001b[38;5;241m.\u001b[39mis_dir():\n\u001b[0;32m--> 600\u001b[0m     \u001b[38;5;28;01mraise\u001b[39;00m \u001b[38;5;167;01mOSError\u001b[39;00m(\u001b[38;5;124mrf\u001b[39m\u001b[38;5;124m\"\u001b[39m\u001b[38;5;124mCannot save file into a non-existent directory: \u001b[39m\u001b[38;5;124m'\u001b[39m\u001b[38;5;132;01m{\u001b[39;00mparent\u001b[38;5;132;01m}\u001b[39;00m\u001b[38;5;124m'\u001b[39m\u001b[38;5;124m\"\u001b[39m)\n",
      "\u001b[0;31mOSError\u001b[0m: Cannot save file into a non-existent directory: 'sweeps_csvs'"
     ]
    }
   ],
   "source": [
    "sweep_results = result_metric([\"emo2h460\"], \"LLMs\", drop_HPT=False, epoch=\"best\")\n",
    "sweep_results"
   ]
  },
  {
   "cell_type": "markdown",
   "id": "3b7cf7c5-c884-43e2-9129-47a507f95124",
   "metadata": {},
   "source": [
    "# Result for a specific epoch"
   ]
  },
  {
   "cell_type": "code",
   "execution_count": 8,
   "id": "bfbdd8de-237f-4283-89b4-608c00121df7",
   "metadata": {},
   "outputs": [
    {
     "name": "stdout",
     "output_type": "stream",
     "text": [
      "Total number of sweeps: 1\n",
      "Download sweep_id='kb9be58j' data...\n",
      "['config_seed', 'config_features', 'config_input_dim', 'config_REVIEW_DIM', 'config_FEATURES_PATH', 'config_online_simulation_factor']\n"
     ]
    },
    {
     "data": {
      "text/html": [
       "<div>\n",
       "<style scoped>\n",
       "    .dataframe tbody tr th:only-of-type {\n",
       "        vertical-align: middle;\n",
       "    }\n",
       "\n",
       "    .dataframe tbody tr th {\n",
       "        vertical-align: top;\n",
       "    }\n",
       "\n",
       "    .dataframe thead th {\n",
       "        text-align: right;\n",
       "    }\n",
       "</style>\n",
       "<table border=\"1\" class=\"dataframe\">\n",
       "  <thead>\n",
       "    <tr style=\"text-align: right;\">\n",
       "      <th></th>\n",
       "      <th></th>\n",
       "      <th></th>\n",
       "      <th></th>\n",
       "      <th></th>\n",
       "      <th>mean</th>\n",
       "      <th>std</th>\n",
       "      <th>values</th>\n",
       "      <th>CI</th>\n",
       "    </tr>\n",
       "    <tr>\n",
       "      <th>config_features</th>\n",
       "      <th>config_input_dim</th>\n",
       "      <th>config_REVIEW_DIM</th>\n",
       "      <th>config_FEATURES_PATH</th>\n",
       "      <th>config_online_simulation_factor</th>\n",
       "      <th></th>\n",
       "      <th></th>\n",
       "      <th></th>\n",
       "      <th></th>\n",
       "    </tr>\n",
       "  </thead>\n",
       "  <tbody>\n",
       "    <tr>\n",
       "      <th rowspan=\"2\" valign=\"top\">BERT</th>\n",
       "      <th rowspan=\"2\" valign=\"top\">49</th>\n",
       "      <th rowspan=\"2\" valign=\"top\">36</th>\n",
       "      <th rowspan=\"2\" valign=\"top\">data/BERT_PCA_36.csv</th>\n",
       "      <th>0</th>\n",
       "      <td>0.791324</td>\n",
       "      <td>0.004130</td>\n",
       "      <td>[0.7913288142079798, 0.7964738446311359, 0.794...</td>\n",
       "      <td>(0.7883271049308528, 0.7945211780625762)</td>\n",
       "    </tr>\n",
       "    <tr>\n",
       "      <th>4</th>\n",
       "      <td>0.787746</td>\n",
       "      <td>0.002023</td>\n",
       "      <td>[0.7853011998466384, 0.7880448817556057, 0.790...</td>\n",
       "      <td>(0.7861906690533982, 0.7893304571102691)</td>\n",
       "    </tr>\n",
       "    <tr>\n",
       "      <th rowspan=\"2\" valign=\"top\">EFs</th>\n",
       "      <th rowspan=\"2\" valign=\"top\">50</th>\n",
       "      <th rowspan=\"2\" valign=\"top\">37</th>\n",
       "      <th rowspan=\"2\" valign=\"top\">data/EFs_by_GPT35.csv</th>\n",
       "      <th>0</th>\n",
       "      <td>0.795179</td>\n",
       "      <td>0.004638</td>\n",
       "      <td>[0.788716651726378, 0.7969832115134915, 0.7940...</td>\n",
       "      <td>(0.7914422896969608, 0.7990928008535583)</td>\n",
       "    </tr>\n",
       "    <tr>\n",
       "      <th>4</th>\n",
       "      <td>0.804494</td>\n",
       "      <td>0.004319</td>\n",
       "      <td>[0.8113387801279366, 0.8016887599672099, 0.802...</td>\n",
       "      <td>(0.8015579276967888, 0.80837621364379)</td>\n",
       "    </tr>\n",
       "    <tr>\n",
       "      <th rowspan=\"2\" valign=\"top\">GPT4</th>\n",
       "      <th rowspan=\"2\" valign=\"top\">49</th>\n",
       "      <th rowspan=\"2\" valign=\"top\">36</th>\n",
       "      <th rowspan=\"2\" valign=\"top\">data/GPT4_PCA_36.csv</th>\n",
       "      <th>0</th>\n",
       "      <td>0.792382</td>\n",
       "      <td>0.006579</td>\n",
       "      <td>[0.7926385318762957, 0.8021579175889718, 0.783...</td>\n",
       "      <td>(0.7874851948109957, 0.7979366627582867)</td>\n",
       "    </tr>\n",
       "    <tr>\n",
       "      <th>4</th>\n",
       "      <td>0.789859</td>\n",
       "      <td>0.001764</td>\n",
       "      <td>[0.7906707039977815, 0.7882686273661637, 0.789...</td>\n",
       "      <td>(0.7885350982715412, 0.7912191251647598)</td>\n",
       "    </tr>\n",
       "  </tbody>\n",
       "</table>\n",
       "</div>"
      ],
      "text/plain": [
       "                                                                                                              mean  \\\n",
       "config_features config_input_dim config_REVIEW_DIM config_FEATURES_PATH  config_online_simulation_factor             \n",
       "BERT            49               36                data/BERT_PCA_36.csv  0                                0.791324   \n",
       "                                                                         4                                0.787746   \n",
       "EFs             50               37                data/EFs_by_GPT35.csv 0                                0.795179   \n",
       "                                                                         4                                0.804494   \n",
       "GPT4            49               36                data/GPT4_PCA_36.csv  0                                0.792382   \n",
       "                                                                         4                                0.789859   \n",
       "\n",
       "                                                                                                               std  \\\n",
       "config_features config_input_dim config_REVIEW_DIM config_FEATURES_PATH  config_online_simulation_factor             \n",
       "BERT            49               36                data/BERT_PCA_36.csv  0                                0.004130   \n",
       "                                                                         4                                0.002023   \n",
       "EFs             50               37                data/EFs_by_GPT35.csv 0                                0.004638   \n",
       "                                                                         4                                0.004319   \n",
       "GPT4            49               36                data/GPT4_PCA_36.csv  0                                0.006579   \n",
       "                                                                         4                                0.001764   \n",
       "\n",
       "                                                                                                                                                     values  \\\n",
       "config_features config_input_dim config_REVIEW_DIM config_FEATURES_PATH  config_online_simulation_factor                                                      \n",
       "BERT            49               36                data/BERT_PCA_36.csv  0                                [0.7913288142079798, 0.7964738446311359, 0.794...   \n",
       "                                                                         4                                [0.7853011998466384, 0.7880448817556057, 0.790...   \n",
       "EFs             50               37                data/EFs_by_GPT35.csv 0                                [0.788716651726378, 0.7969832115134915, 0.7940...   \n",
       "                                                                         4                                [0.8113387801279366, 0.8016887599672099, 0.802...   \n",
       "GPT4            49               36                data/GPT4_PCA_36.csv  0                                [0.7926385318762957, 0.8021579175889718, 0.783...   \n",
       "                                                                         4                                [0.7906707039977815, 0.7882686273661637, 0.789...   \n",
       "\n",
       "                                                                                                                                                CI  \n",
       "config_features config_input_dim config_REVIEW_DIM config_FEATURES_PATH  config_online_simulation_factor                                            \n",
       "BERT            49               36                data/BERT_PCA_36.csv  0                                (0.7883271049308528, 0.7945211780625762)  \n",
       "                                                                         4                                (0.7861906690533982, 0.7893304571102691)  \n",
       "EFs             50               37                data/EFs_by_GPT35.csv 0                                (0.7914422896969608, 0.7990928008535583)  \n",
       "                                                                         4                                  (0.8015579276967888, 0.80837621364379)  \n",
       "GPT4            49               36                data/GPT4_PCA_36.csv  0                                (0.7874851948109957, 0.7979366627582867)  \n",
       "                                                                         4                                (0.7885350982715412, 0.7912191251647598)  "
      ]
     },
     "execution_count": 8,
     "metadata": {},
     "output_type": "execute_result"
    }
   ],
   "source": [
    "sweep_results = result_metric([\"kb9be58j\"], \"LLMs\", drop_HPT=False, epoch=10)\n",
    "sweep_results"
   ]
  },
  {
   "cell_type": "code",
   "execution_count": null,
   "id": "a198a156-3e53-4ef4-9525-47e8671c7844",
   "metadata": {},
   "outputs": [],
   "source": []
  }
 ],
 "metadata": {
  "kernelspec": {
   "display_name": "Python 3",
   "language": "python",
   "name": "python3"
  },
  "language_info": {
   "codemirror_mode": {
    "name": "ipython",
    "version": 3
   },
   "file_extension": ".py",
   "mimetype": "text/x-python",
   "name": "python",
   "nbconvert_exporter": "python",
   "pygments_lexer": "ipython3",
   "version": "3.8.19"
  }
 },
 "nbformat": 4,
 "nbformat_minor": 5
}
